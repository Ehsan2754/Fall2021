{
 "cells": [
  {
   "cell_type": "markdown",
   "id": "fdc56311",
   "metadata": {},
   "source": [
    "# Task 1: Pregel parameters:\n",
    "* graph  the input graph\n",
    "* initialMsg - the message each vertex will receive at the first iteration\n",
    "* maxIterations - stopping criteria for sending messages\n",
    "* activeDirection - setting which nodes will next send message\n",
    "* vprog - the user program which runs on each vertex and receives the inbound message and computes a new vertex value\n",
    "* sendMsg - function that is applied to out edges of vertices that received messages in the current iteration\n",
    "* mergeMsg - function that takes two incoming messages of type A and merges them into a single message of type A"
   ]
  },
  {
   "cell_type": "markdown",
   "id": "07b9966f",
   "metadata": {},
   "source": [
    "# Task 2\n",
    "* Fraud Detection: Graph data solutions also help to find fraudulent transactions in a payment processing application based on the connected data that include the entities like users, products, transactions, and events.\n",
    "* Shortest Distance: Shortest distances and paths are also useful in social network applications. They can be used for  measuring the relevance of a particular user in the network. Users with smaller shortest distances are more relevant than users farther away."
   ]
  },
  {
   "cell_type": "markdown",
   "id": "2e90cb7c",
   "metadata": {},
   "source": [
    "# Task 3"
   ]
  },
  {
   "cell_type": "code",
   "execution_count": 25,
   "id": "3ca3facd",
   "metadata": {},
   "outputs": [
    {
     "name": "stdout",
     "output_type": "stream",
     "text": [
      "\n",
      "(5,1.7002451224528383)\n",
      "(3,1.1294346981766874)\n",
      "(4,0.9190514175420748)\n",
      "(1,0.4390416708169825)\n",
      "(2,0.8122270910114175)\n"
     ]
    }
   ],
   "source": [
    "#SCALA\n",
    "import org.apache.spark.graphx._\n",
    "val myVertices = sc.makeRDD(Array(\n",
    "    (1L, \"Ann\"),\n",
    "    (2L, \"Bill\"),\n",
    "    (3L, \"Charles\"),\n",
    "    (4L, \"Diane\"),\n",
    "    (5L, \"Went to gym this morning\")\n",
    "))\n",
    "\n",
    "val myEdges = sc.makeRDD(Array(\n",
    "    Edge(1L, 2L, \"is-friends-with\"),\n",
    "    Edge(2L, 3L, \"is-friends-with\"),\n",
    "    Edge(3L, 4L, \"is-friends-with\"),\n",
    "    Edge(3L, 1L, \"is-friends-with\"),\n",
    "    Edge(4L, 1L, \"is-friends-with\"),\n",
    "    Edge(1L, 5L, \"Wrote-status\")\n",
    "))\n",
    "\n",
    "val myGraph = Graph(myVertices, myEdges)\n",
    "myGraph.pageRank(0.001).vertices.foreach(println)\n"
   ]
  },
  {
   "cell_type": "code",
   "execution_count": 26,
   "id": "6fd45b01",
   "metadata": {},
   "outputs": [
    {
     "name": "stdout",
     "output_type": "stream",
     "text": [
      "\n",
      "(1,1.393293778383316)\n",
      "(2,0.8946623413364332)\n",
      "(4,0.7549827071549726)\n",
      "(5,0.8946623413364332)\n",
      "(3,1.0623988317888453)\n",
      "\n"
     ]
    }
   ],
   "source": [
    "import org.apache.spark.graphx._\n",
    "val myVertices = sc.makeRDD(Array(\n",
    "    (1L, \"Ann\"),\n",
    "    (2L, \"Bill\"),\n",
    "    (3L, \"Charles\"),\n",
    "    (4L, \"Diane\"),\n",
    "    (5L, \"Went to gym this morning\")\n",
    "))\n",
    "\n",
    "val myEdges = sc.makeRDD(Array(\n",
    "    Edge(1L, 2L, \"is-friends-with\"),\n",
    "    Edge(2L, 3L, \"is-friends-with\"),\n",
    "    Edge(3L, 4L, \"is-friends-with\"),\n",
    "    Edge(4L, 5L, \"Likes-status\"),\n",
    "    Edge(3L, 5L, \"Wrote-status\")\n",
    "))\n",
    "\n",
    "val myGraph = Graph(myVertices, myEdges)\n",
    "myGraph.pageRank(0.001).vertices.foreach(println)\n"
   ]
  }
 ],
 "metadata": {
  "kernelspec": {
   "display_name": "Python 3 (ipykernel)",
   "language": "python",
   "name": "python3"
  },
  "language_info": {
   "codemirror_mode": {
    "name": "ipython",
    "version": 3
   },
   "file_extension": ".py",
   "mimetype": "text/x-python",
   "name": "python",
   "nbconvert_exporter": "python",
   "pygments_lexer": "ipython3",
   "version": "3.9.7"
  }
 },
 "nbformat": 4,
 "nbformat_minor": 5
}
