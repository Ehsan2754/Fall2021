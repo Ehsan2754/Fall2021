{
  "nbformat": 4,
  "nbformat_minor": 0,
  "metadata": {
    "kernelspec": {
      "name": "python3",
      "display_name": "Python 3.9.6 64-bit"
    },
    "language_info": {
      "codemirror_mode": {
        "name": "ipython",
        "version": 3
      },
      "file_extension": ".py",
      "mimetype": "text/x-python",
      "name": "python",
      "nbconvert_exporter": "python",
      "pygments_lexer": "ipython3",
      "version": "3.9.6"
    },
    "interpreter": {
      "hash": "ad69a6eeded1810137902dabe12f7736dcdf84919ba34f8c521f07deeeecf2ea"
    },
    "colab": {
      "name": "Lab01_assignment.ipynb",
      "provenance": []
    }
  },
  "cells": [
    {
      "cell_type": "markdown",
      "metadata": {
        "id": "lzfjCiV-Ukzs"
      },
      "source": [
        "# Lab01: Assignment\n",
        "In this assignment you're required to find whether the given numbers are prime or not using sequential and parallel processing and then compare the performance of both\n",
        "\n",
        "## 1. Sequential processing"
      ]
    },
    {
      "cell_type": "code",
      "metadata": {
        "id": "w4ZAZ8cHUkzt"
      },
      "source": [
        "import time\n",
        "import math"
      ],
      "execution_count": 1,
      "outputs": []
    },
    {
      "cell_type": "code",
      "metadata": {
        "id": "EklryxCcUkzu"
      },
      "source": [
        "numbers = [15492781, 15492787, 15492803, \n",
        "           15492811, 15492810, 15492833, \n",
        "           15492859, 15502547, 15520301, 15527509]"
      ],
      "execution_count": 2,
      "outputs": []
    },
    {
      "cell_type": "code",
      "metadata": {
        "id": "QRaKLQbvUkzv",
        "outputId": "6b0485bb-4cdb-4f52-f53d-a2634cdfa218",
        "colab": {
          "base_uri": "https://localhost:8080/"
        }
      },
      "source": [
        "def is_prime(number):\n",
        "    \"\"\"returns True if number \n",
        "    is prime, False otherwise\"\"\"\n",
        "    # your code here\n",
        "    #---------------------------------------------------------------------------------\n",
        "    ## checking if number is an integer > 1\n",
        "    if (number>1) and (isinstance(number,int)):\n",
        "      ### checking for factors\n",
        "      for i in range(2,number):\n",
        "        if number%i==0:\n",
        "          return False\n",
        "      ### when no factor is found\n",
        "      return True\n",
        "    ## if the number is not an integer or not greater than 1 it is not a prime number\n",
        "    else:\n",
        "      return False\n",
        "    #---------------------------------------------------------------------------------\n",
        "      \n",
        "    \n",
        "if __name__ == \"__main__\":\n",
        "    # your code here\n",
        "    # 1. record the start time using time() function of time module     \n",
        "    start = time.time()\n",
        "    print(start)\n",
        "    \n",
        "    for number in numbers:\n",
        "        # 2. print the number and \n",
        "        #    whether it is prime or not.\n",
        "        #    use is_prime() function\n",
        "        print(number,'\\t>> ',is_prime(number))\n",
        "    \n",
        "    # 3. record the performance and print out\n",
        "    end = time.time()\n",
        "    print(end)\n",
        "    t_seq = end-start\n",
        "    print('Performance time= ',t_seq)"
      ],
      "execution_count": 43,
      "outputs": [
        {
          "output_type": "stream",
          "text": [
            "1629365549.5673387\n",
            "15492781 \t>>  True\n",
            "15492787 \t>>  True\n",
            "15492803 \t>>  True\n",
            "15492811 \t>>  True\n",
            "15492810 \t>>  False\n",
            "15492833 \t>>  True\n",
            "15492859 \t>>  True\n",
            "15502547 \t>>  True\n",
            "15520301 \t>>  True\n",
            "15527509 \t>>  True\n",
            "1629365562.16645\n",
            "Performance time=  12.599111318588257\n"
          ],
          "name": "stdout"
        }
      ]
    },
    {
      "cell_type": "markdown",
      "metadata": {
        "id": "zeCVaPUmUkzw"
      },
      "source": [
        "## 2. Parallel processing"
      ]
    },
    {
      "cell_type": "code",
      "metadata": {
        "id": "RUgp1UiNUkzw"
      },
      "source": [
        "from multiprocessing import Process, Queue,current_process\n",
        "import os\n",
        "from queue import Empty # exception to break from loop when the get(block=False) called on empty queue "
      ],
      "execution_count": 77,
      "outputs": []
    },
    {
      "cell_type": "code",
      "metadata": {
        "id": "lkvik5zrUkzx",
        "outputId": "14b532f0-03d0-4426-b3f5-53eb6f097868",
        "colab": {
          "base_uri": "https://localhost:8080/"
        }
      },
      "source": [
        "def check_prime_worker(job_queue):\n",
        "    \"\"\"worker function passed as target to Process\"\"\"\n",
        "    while True:\n",
        "        # your code here\n",
        "        # 1. get next available number from queue\n",
        "        # 2. print the number and whether it\n",
        "        #    is prime or not, use is_prime()\n",
        "        # 3. use try/except to catch Empty exception \n",
        "        #    and quit the loop if no number remains in queue\n",
        "        try:\n",
        "          num = job_queue.get(block=False)\n",
        "          print('PROCCESS:',current_process().name,'\\t PID:',os.getpid(),'\\t.:.\\t#',num,'\\t>> ',is_prime(num))\n",
        "        except Empty:\n",
        "          break\n",
        "        \n",
        "# calculate if the numbers are prime or not\n",
        "# measure the performance of parallel processing\n",
        "if __name__ == \"__main__\":\n",
        "    job_queue = Queue()\n",
        "    t_par = []\n",
        "    # number of workers \n",
        "    for P in range(1, len(numbers)+1):\n",
        "        # preparing the jobs to be done by workers\n",
        "        for n in numbers:\n",
        "            job_queue.put(n)\n",
        "\n",
        "        # your code here\n",
        "        # 1. create list of processes of N process. Choose N in range of [1:len(numbers)]\n",
        "        processes = [Process(name=str(N),target=check_prime_worker, args=(job_queue,)) for N in range(1,P+1)]\n",
        "        # 2. record the start time \n",
        "        start = time.time()\n",
        "        print(f'>>\\tPROCESSING USING %i PROCESSES'%P)\n",
        "        print(f'--\\tSTART TIME :',start)\n",
        "        # 3. start each of the processes\n",
        "        [p.start() for p in processes]\n",
        "        # 4. call join on each of the processes\n",
        "        [p.join() for p in processes]\n",
        "        # 5. measure the performance and append to the list of records\n",
        "        end = time.time()\n",
        "        print(f'--\\tEND TIME :',end)\n",
        "        t_par.append((P,end-start))\n",
        "        print(f'--\\tTOTAL EXECUTION TIME :',end-start)\n",
        "        # 6. close the processes\n",
        "        [p.close() for p in processes]\n",
        "        \n"
      ],
      "execution_count": 44,
      "outputs": [
        {
          "output_type": "stream",
          "text": [
            ">>\tPROCESSING USING 1 PROCESSES\n",
            "--\tSTART TIME : 1629365566.5530112\n",
            "PROCCESS: 1 \t PID: 5372 \t.:.\t# 15492781 \t>>  True\n",
            "PROCCESS: 1 \t PID: 5372 \t.:.\t# 15492787 \t>>  True\n",
            "PROCCESS: 1 \t PID: 5372 \t.:.\t# 15492803 \t>>  True\n",
            "PROCCESS: 1 \t PID: 5372 \t.:.\t# 15492811 \t>>  True\n",
            "PROCCESS: 1 \t PID: 5372 \t.:.\t# 15492810 \t>>  False\n",
            "PROCCESS: 1 \t PID: 5372 \t.:.\t# 15492833 \t>>  True\n",
            "PROCCESS: 1 \t PID: 5372 \t.:.\t# 15492859 \t>>  True\n",
            "PROCCESS: 1 \t PID: 5372 \t.:.\t# 15502547 \t>>  True\n",
            "PROCCESS: 1 \t PID: 5372 \t.:.\t# 15520301 \t>>  True\n",
            "PROCCESS: 1 \t PID: 5372 \t.:.\t# 15527509 \t>>  True\n",
            "--\tEND TIME : 1629365579.0921876\n",
            "--\tTOTAL EXECUTION TIME : 12.53917646408081\n",
            ">>\tPROCESSING USING 2 PROCESSES\n",
            "--\tSTART TIME : 1629365579.0925446\n",
            "PROCCESS: 1 \t PID: 5395 \t.:.\t# 15492781 \t>>  True\n",
            "PROCCESS: 2 \t PID: 5396 \t.:.\t# 15492787 \t>>  True\n",
            "PROCCESS: 1 \t PID: 5395 \t.:.\t# 15492803 \t>>  True\n",
            "PROCCESS: 1 \t PID: 5395 \t.:.\t# 15492810 \t>>  False\n",
            "PROCCESS: 2 \t PID: 5396 \t.:.\t# 15492811 \t>>  True\n",
            "PROCCESS: 1 \t PID: 5395 \t.:.\t# 15492833 \t>>  True\n",
            "PROCCESS: 2 \t PID: 5396 \t.:.\t# 15492859 \t>>  True\n",
            "PROCCESS: 1 \t PID: 5395 \t.:.\t# 15502547 \t>>  True\n",
            "PROCCESS: 2 \t PID: 5396 \t.:.\t# 15520301 \t>>  True\n",
            "PROCCESS: 1 \t PID: 5395 \t.:.\t# 15527509 \t>>  True\n",
            "--\tEND TIME : 1629365592.3326578\n",
            "--\tTOTAL EXECUTION TIME : 13.240113258361816\n",
            ">>\tPROCESSING USING 3 PROCESSES\n",
            "--\tSTART TIME : 1629365592.3353224\n",
            "PROCCESS: 3 \t PID: 5421 \t.:.\t# 15492803 \t>>  True\n",
            "PROCCESS: 1 \t PID: 5419 \t.:.\t# 15492781 \t>>  True\n",
            "PROCCESS: 1 \t PID: 5419 \t.:.\t# 15492810 \t>>  False\n",
            "PROCCESS: 2 \t PID: 5420 \t.:.\t# 15492787 \t>>  True\n",
            "PROCCESS: 3 \t PID: 5421 \t.:.\t# 15492811 \t>>  True\n",
            "PROCCESS: 1 \t PID: 5419 \t.:.\t# 15492833 \t>>  True\n",
            "PROCCESS: 2 \t PID: 5420 \t.:.\t# 15492859 \t>>  True\n",
            "PROCCESS: 3 \t PID: 5421 \t.:.\t# 15502547 \t>>  True\n",
            "PROCCESS: 2 \t PID: 5420 \t.:.\t# 15527509 \t>>  True\n",
            "PROCCESS: 1 \t PID: 5419 \t.:.\t# 15520301 \t>>  True\n",
            "--\tEND TIME : 1629365605.5950322\n",
            "--\tTOTAL EXECUTION TIME : 13.25970983505249\n",
            ">>\tPROCESSING USING 4 PROCESSES\n",
            "--\tSTART TIME : 1629365605.5954812\n",
            "PROCCESS: 2 \t PID: 5445 \t.:.\t# 15492787 \t>>  True\n",
            "PROCCESS: 2 \t PID: 5445 \t.:.\t# 15492810 \t>>  False\n",
            "PROCCESS: 4 \t PID: 5447 \t.:.\t# 15492811 \t>>  True\n",
            "PROCCESS: 3 \t PID: 5446 \t.:.\t# 15492803 \t>>  True\n",
            "PROCCESS: 1 \t PID: 5444 \t.:.\t# 15492781 \t>>  True\n",
            "PROCCESS: 2 \t PID: 5445 \t.:.\t# 15492833 \t>>  True\n",
            "PROCCESS: 3 \t PID: 5446 \t.:.\t# 15502547 \t>>  True\n",
            "PROCCESS: 4 \t PID: 5447 \t.:.\t# 15492859 \t>>  True\n",
            "PROCCESS: 1 \t PID: 5444 \t.:.\t# 15520301 \t>>  True\n",
            "PROCCESS: 2 \t PID: 5445 \t.:.\t# 15527509 \t>>  True\n",
            "--\tEND TIME : 1629365618.8055754\n",
            "--\tTOTAL EXECUTION TIME : 13.210094213485718\n",
            ">>\tPROCESSING USING 5 PROCESSES\n",
            "--\tSTART TIME : 1629365618.806096\n",
            "PROCCESS: 5 \t PID: 5476 \t.:.\t# 15492810 \t>>  False\n",
            "PROCCESS: 2 \t PID: 5473 \t.:.\t# 15492787 \t>>  True\n",
            "PROCCESS: 1 \t PID: 5472 \t.:.\t# 15492781 \t>>  True\n",
            "PROCCESS: 5 \t PID: 5476 \t.:.\t# 15492833 \t>>  True\n",
            "PROCCESS: 4 \t PID: 5475 \t.:.\t# 15492811 \t>>  True\n",
            "PROCCESS: 3 \t PID: 5474 \t.:.\t# 15492803 \t>>  True\n",
            "PROCCESS: 2 \t PID: 5473 \t.:.\t# 15492859 \t>>  True\n",
            "PROCCESS: 1 \t PID: 5472 \t.:.\t# 15502547 \t>>  True\n",
            "PROCCESS: 5 \t PID: 5476 \t.:.\t# 15520301 \t>>  True\n",
            "PROCCESS: 4 \t PID: 5475 \t.:.\t# 15527509 \t>>  True\n",
            "--\tEND TIME : 1629365632.0666132\n",
            "--\tTOTAL EXECUTION TIME : 13.260517120361328\n",
            ">>\tPROCESSING USING 6 PROCESSES\n",
            "--\tSTART TIME : 1629365632.067028\n",
            "PROCCESS: 5 \t PID: 5503 \t.:.\t# 15492810 \t>>  False\n",
            "PROCCESS: 4 \t PID: 5502 \t.:.\t# 15492811 \t>>  True\n",
            "PROCCESS: 2 \t PID: 5500 \t.:.\t# 15492787 \t>>  True\n",
            "PROCCESS: 6 \t PID: 5504 \t.:.\t# 15492833 \t>>  True\n",
            "PROCCESS: 3 \t PID: 5501 \t.:.\t# 15492803 \t>>  True\n",
            "PROCCESS: 1 \t PID: 5499 \t.:.\t# 15492781 \t>>  True\n",
            "PROCCESS: 4 \t PID: 5502 \t.:.\t# 15492859 \t>>  True\n",
            "PROCCESS: 2 \t PID: 5500 \t.:.\t# 15502547 \t>>  True\n",
            "PROCCESS: 6 \t PID: 5504 \t.:.\t# 15520301 \t>>  True\n",
            "PROCCESS: 3 \t PID: 5501 \t.:.\t# 15527509 \t>>  True\n",
            "--\tEND TIME : 1629365645.3542888\n",
            "--\tTOTAL EXECUTION TIME : 13.28726077079773\n",
            ">>\tPROCESSING USING 7 PROCESSES\n",
            "--\tSTART TIME : 1629365645.3546767\n",
            "PROCCESS: 6 \t PID: 5532 \t.:.\t# 15492810 \t>>  False\n",
            "PROCCESS: 1 \t PID: 5527 \t.:.\t# 15492781 \t>>  True\n",
            "PROCCESS: 2 \t PID: 5528 \t.:.\t# 15492787 \t>>  True\n",
            "PROCCESS: 3 \t PID: 5529 \t.:.\t# 15492803 \t>>  True\n",
            "PROCCESS: 7 \t PID: 5533 \t.:.\t# 15492833 \t>>  True\n",
            "PROCCESS: 4 \t PID: 5530 \t.:.\t# 15492811 \t>>  True\n",
            "PROCCESS: 6 \t PID: 5532 \t.:.\t# 15492859 \t>>  True\n",
            "PROCCESS: 3 \t PID: 5529 \t.:.\t# 15527509 \t>>  True\n",
            "PROCCESS: 1 \t PID: 5527 \t.:.\t# 15502547 \t>>  True\n",
            "PROCCESS: 2 \t PID: 5528 \t.:.\t# 15520301 \t>>  True\n",
            "--\tEND TIME : 1629365658.6010096\n",
            "--\tTOTAL EXECUTION TIME : 13.246332883834839\n",
            ">>\tPROCESSING USING 8 PROCESSES\n",
            "--\tSTART TIME : 1629365658.601436\n",
            "PROCCESS: 6 \t PID: 5561 \t.:.\t# 15492810 \t>>  False\n",
            "PROCCESS: 1 \t PID: 5556 \t.:.\t# 15492781 \t>>  True\n",
            "PROCCESS: 5 \t PID: 5560 \t.:.\t# 15492811 \t>>  True\n",
            "PROCCESS: 2 \t PID: 5557 \t.:.\t# 15492803 \t>>  True\n",
            "PROCCESS: 7 \t PID: 5563 \t.:.\t# 15492833 \t>>  True\n",
            "PROCCESS: 6 \t PID: 5561 \t.:.\t# 15492859 \t>>  True\n",
            "PROCCESS: 8 \t PID: 5565 \t.:.\t# 15502547 \t>>  True\n",
            "PROCCESS: 3 \t PID: 5558 \t.:.\t# 15492787 \t>>  True\n",
            "PROCCESS: 1 \t PID: 5556 \t.:.\t# 15520301 \t>>  True\n",
            "PROCCESS: 5 \t PID: 5560 \t.:.\t# 15527509 \t>>  True\n",
            "--\tEND TIME : 1629365671.9028919\n",
            "--\tTOTAL EXECUTION TIME : 13.301455974578857\n",
            ">>\tPROCESSING USING 9 PROCESSES\n",
            "--\tSTART TIME : 1629365671.9033542\n",
            "PROCCESS: 6 \t PID: 5593 \t.:.\t# 15492810 \t>>  False\n",
            "PROCCESS: 3 \t PID: 5590 \t.:.\t# 15492811 \t>>  True\n",
            "PROCCESS: 9 \t PID: 5598 \t.:.\t# 15520301 \t>>  True\n",
            "PROCCESS: 1 \t PID: 5588 \t.:.\t# 15492781 \t>>  True\n",
            "PROCCESS: 4 \t PID: 5591 \t.:.\t# 15492803 \t>>  True\n",
            "PROCCESS: 7 \t PID: 5594 \t.:.\t# 15492833 \t>>  True\n",
            "PROCCESS: 8 \t PID: 5595 \t.:.\t# 15502547 \t>>  True\n",
            "PROCCESS: 2 \t PID: 5589 \t.:.\t# 15492787 \t>>  True\n",
            "PROCCESS: 6 \t PID: 5593 \t.:.\t# 15492859 \t>>  True\n",
            "PROCCESS: 3 \t PID: 5590 \t.:.\t# 15527509 \t>>  True\n",
            "--\tEND TIME : 1629365685.1017487\n",
            "--\tTOTAL EXECUTION TIME : 13.198394536972046\n",
            ">>\tPROCESSING USING 10 PROCESSES\n",
            "--\tSTART TIME : 1629365685.1022747\n",
            "PROCCESS: 5 \t PID: 5623 \t.:.\t# 15492810 \t>>  False\n",
            "PROCCESS: 1 \t PID: 5619 \t.:.\t# 15492781 \t>>  True\n",
            "PROCCESS: 5 \t PID: 5623 \t.:.\t# 15492833 \t>>  True\n",
            "PROCCESS: 6 \t PID: 5624 \t.:.\t# 15492811 \t>>  True\n",
            "PROCCESS: 4 \t PID: 5622 \t.:.\t# 15492803 \t>>  True\n",
            "PROCCESS: 2 \t PID: 5620 \t.:.\t# 15492787 \t>>  True\n",
            "PROCCESS: 10 \t PID: 5630 \t.:.\t# 15527509 \t>>  True\n",
            "PROCCESS: 8 \t PID: 5628 \t.:.\t# 15502547 \t>>  True\n",
            "PROCCESS: 7 \t PID: 5627 \t.:.\t# 15492859 \t>>  True\n",
            "PROCCESS: 9 \t PID: 5629 \t.:.\t# 15520301 \t>>  True\n",
            "--\tEND TIME : 1629365698.4034412\n",
            "--\tTOTAL EXECUTION TIME : 13.301166534423828\n"
          ],
          "name": "stdout"
        }
      ]
    },
    {
      "cell_type": "markdown",
      "metadata": {
        "id": "ZVwUFfdZUkzy"
      },
      "source": [
        "Bonus points will be given if you show/print the name of the process that did calculation for given number (use current_process() from multiprocessing module) "
      ]
    },
    {
      "cell_type": "markdown",
      "metadata": {
        "id": "HVFSqEAKUkzz"
      },
      "source": [
        "## 3. Compare the performance of Sequential processing against Parallel processing \n",
        "Draw a simple 2D graph using matplotlib:\n",
        "- X axis should be number of processes from part 2, i.e., it should have values: 1, 2, 3,.., len(numbers)\n",
        "- Y axis should be ratio of \"time for sequential processing\" (t_seq) to a \"time for parallel processing\" (t_par[i-1]) when i processes are used.\n",
        "\n",
        "Explain the results in a few sentences and what factors can affect it?"
      ]
    },
    {
      "cell_type": "code",
      "metadata": {
        "id": "hV-23DKeuYFA",
        "outputId": "ee983c96-dc33-4c45-f3a5-ec605ffc53af",
        "colab": {
          "base_uri": "https://localhost:8080/",
          "height": 584
        }
      },
      "source": [
        "import matplotlib.pyplot as plt\n",
        "X,Y = zip(*t_par)\n",
        "X = list(X)\n",
        "Y = [t_seq/y for y in Y]\n",
        "plt.figure(figsize=(16,9))\n",
        "plt.title('Performance Comparision Figure')\n",
        "plt.xlabel('# PROCESS')\n",
        "plt.ylabel('T seq/T par')\n",
        "plt.xticks(X,X)\n",
        "plt.scatter(X,Y,c='r',marker='x')\n",
        "plt.plot(X,Y,'b')"
      ],
      "execution_count": 75,
      "outputs": [
        {
          "output_type": "execute_result",
          "data": {
            "text/plain": [
              "[<matplotlib.lines.Line2D at 0x7f19434eb950>]"
            ]
          },
          "metadata": {},
          "execution_count": 75
        },
        {
          "output_type": "display_data",
          "data": {
            "image/png": "[encoded data removed]",
            "text/plain": [
              "<Figure size 1152x648 with 1 Axes>"
            ]
          },
          "metadata": {
            "needs_background": "light"
          }
        }
      ]
    },
    {
      "cell_type": "code",
      "metadata": {
        "id": "qrkYkdIt4td1",
        "outputId": "ae0cc6d5-01db-43a1-dc90-f60917cecb1b",
        "colab": {
          "base_uri": "https://localhost:8080/"
        }
      },
      "source": [
        "print(os.cpu_count())"
      ],
      "execution_count": 80,
      "outputs": [
        {
          "output_type": "stream",
          "text": [
            "2\n"
          ],
          "name": "stdout"
        }
      ]
    }
  ]
}