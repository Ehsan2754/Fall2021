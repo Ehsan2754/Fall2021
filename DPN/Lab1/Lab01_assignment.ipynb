{
 "cells": [
  {
   "cell_type": "markdown",
   "metadata": {},
   "source": [
    "# Lab01: Assignment\n",
    "In this assignment you're required to find whether the given numbers are prime or not using sequential and parallel processing and then compare the performance of both\n",
    "\n",
    "## 1. Sequential processing"
   ]
  },
  {
   "cell_type": "code",
   "execution_count": 10,
   "metadata": {},
   "outputs": [],
   "source": [
    "import time"
   ]
  },
  {
   "cell_type": "code",
   "execution_count": 12,
   "metadata": {},
   "outputs": [],
   "source": [
    "numbers = [15492781, 15492787, 15492803, \n",
    "           15492811, 15492810, 15492833, \n",
    "           15492859, 15502547, 15520301, 15527509]"
   ]
  },
  {
   "cell_type": "code",
   "execution_count": 18,
   "metadata": {},
   "outputs": [
    {
     "output_type": "error",
     "ename": "IndentationError",
     "evalue": "expected an indented block (Temp/ipykernel_15808/2348929429.py, line 20)",
     "traceback": [
      "\u001b[1;36m  File \u001b[1;32m\"C:\\Users\\Ahuratus\\AppData\\Local\\Temp/ipykernel_15808/2348929429.py\"\u001b[1;36m, line \u001b[1;32m20\u001b[0m\n\u001b[1;33m    t_seq =\u001b[0m\n\u001b[1;37m    ^\u001b[0m\n\u001b[1;31mIndentationError\u001b[0m\u001b[1;31m:\u001b[0m expected an indented block\n"
     ]
    }
   ],
   "source": [
    "def is_prime(number):\n",
    "    \"\"\"returns True if number \n",
    "    is prime, False otherwise\"\"\"\n",
    "    # your code here\n",
    "    pass\n",
    "\n",
    "    \n",
    "if __name__ == \"__main__\":\n",
    "    # your code here\n",
    "    # 1. record the start time using time() function of time module     \n",
    "    start = time.time()\n",
    "    print(start)\n",
    "    \n",
    "    for number in numbers:\n",
    "        # 2. print the number and \n",
    "        #    whether it is prime or not.\n",
    "        #    use is_prime() function\n",
    "    \n",
    "    # 3. record the performance and print out\n",
    "    t_seq = "
   ]
  },
  {
   "cell_type": "markdown",
   "metadata": {},
   "source": [
    "## 2. Parallel processing"
   ]
  },
  {
   "cell_type": "code",
   "execution_count": null,
   "metadata": {},
   "outputs": [],
   "source": [
    "from multiprocessing import Process, Queue\n",
    "from queue import Empty # exception to break from loop when the get(block=False) called on empty queue "
   ]
  },
  {
   "cell_type": "code",
   "execution_count": null,
   "metadata": {},
   "outputs": [],
   "source": [
    "def check_prime_worker(job_queue):\n",
    "    \"\"\"worker function passed as target to Process\"\"\"\n",
    "    while True:\n",
    "        # your code here\n",
    "        # 1. get next available number from queue\n",
    "        # 2. print the number and whether it\n",
    "        #    is prime or not, use is_prime()\n",
    "        # 3. use try/except to catch Empty exception \n",
    "        #    and quit the loop if no number remains in queue\n",
    "\n",
    "        \n",
    "# calculate if the numbers are prime or not\n",
    "# measure the performance of parallel processing\n",
    "if __name__ == \"__main__\":\n",
    "    job_queue = Queue()\n",
    "    \n",
    "    t_par = []\n",
    "    # number of workers \n",
    "    for _ in range(1, len(numbers)+1):\n",
    "        # preparing the jobs to be done by workers\n",
    "        for n in numbers:\n",
    "            job_queue.put(n)\n",
    "\n",
    "        # your code here\n",
    "\n",
    "        # 1. create list of processes of N process. Choose N in range of [1:len(numbers)]\n",
    "\n",
    "        # 2. record the start time \n",
    "        start = \n",
    "        \n",
    "        # 3. start each of the processes\n",
    "\n",
    "        # 4. call join on each of the processes\n",
    "\n",
    "        # 5. measure the performance and append to the list of records\n",
    "        t_par.append( )\n",
    "        \n",
    "        # 6. close the processes\n"
   ]
  },
  {
   "cell_type": "markdown",
   "metadata": {},
   "source": [
    "Bonus points will be given if you show/print the name of the process that did calculation for given number (use current_process() from multiprocessing module) "
   ]
  },
  {
   "cell_type": "markdown",
   "metadata": {},
   "source": [
    "## 3. Compare the performance of Sequential processing against Parallel processing \n",
    "Draw a simple 2D graph using matplotlib:\n",
    "- X axis should be number of processes from part 2, i.e., it should have values: 1, 2, 3,.., len(numbers)\n",
    "- Y axis should be ratio of \"time for sequential processing\" (t_seq) to a \"time for parallel processing\" (t_par[i-1]) when i processes are used.\n",
    "\n",
    "Explain the results in a few sentences and what factors can affect it?"
   ]
  }
 ],
 "metadata": {
  "kernelspec": {
   "name": "python3",
   "display_name": "Python 3.9.6 64-bit"
  },
  "language_info": {
   "codemirror_mode": {
    "name": "ipython",
    "version": 3
   },
   "file_extension": ".py",
   "mimetype": "text/x-python",
   "name": "python",
   "nbconvert_exporter": "python",
   "pygments_lexer": "ipython3",
   "version": "3.9.6"
  },
  "interpreter": {
   "hash": "ad69a6eeded1810137902dabe12f7736dcdf84919ba34f8c521f07deeeecf2ea"
  }
 },
 "nbformat": 4,
 "nbformat_minor": 4
}