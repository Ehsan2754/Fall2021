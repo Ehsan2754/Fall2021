{
 "cells": [
  {
   "cell_type": "markdown",
   "source": [
    "# Lab-5: Kernel SVM, Principal Component Analysis\r\n",
    "_____\r\n",
    "##### In this lab, you will experiment with different kernels in SVM and implement PCA step by step.\r\n",
    "\r\n",
    "### Objectives:\r\n",
    "1. Understand basic steps of PCA"
   ],
   "metadata": {
    "colab_type": "text",
    "id": "YQPaHbIjl01G"
   }
  },
  {
   "cell_type": "markdown",
   "source": [
    "## PCA\n",
    "\n",
    "1. How does PCA reduce data dimensionality? \n",
    "2. What is eigenvector? \n",
    "\n",
    "Task: Now you will implement basic steps of PCA: mean-centering, eigenvectors calculation using covariance matrix, projecting data to the first PC, and restoring it back."
   ],
   "metadata": {
    "colab_type": "text",
    "id": "DJE95f4yGU_i"
   }
  },
  {
   "cell_type": "markdown",
   "source": [
    "### Generating data ###"
   ],
   "metadata": {
    "pycharm": {
     "name": "#%% md\n"
    }
   }
  },
  {
   "cell_type": "code",
   "execution_count": 1,
   "source": [
    " import numpy as np\r\n",
    "from matplotlib import pyplot as plt\r\n",
    "from sklearn.datasets import make_blobs, make_moons, make_circles\r\n",
    "\r\n",
    "# N is a sample size\r\n",
    "N = 25\r\n",
    "# we can fix a random seed. It allows us to get the same data\r\n",
    "np.random.seed(10)\r\n",
    "# form our data\r\n",
    "x = np.linspace(-5, -3, N)\r\n",
    "y = 10 + 2*x + np.random.random(size=(N,))\r\n",
    "data = np.stack([x,y], axis = 1)\r\n",
    "\r\n",
    "\r\n",
    "plt.title(\"Data\")\r\n",
    "plt.plot(data[:,0], data[:,1], '.', color=\"green\")\r\n",
    "plt.axis([-6, 2, -3, 6])\r\n",
    "plt.grid('True')"
   ],
   "outputs": [
    {
     "output_type": "display_data",
     "data": {
      "image/png": "[encoded data removed]",
      "text/plain": [
       "<Figure size 432x288 with 1 Axes>"
      ]
     },
     "metadata": {
      "needs_background": "light"
     }
    }
   ],
   "metadata": {
    "scrolled": false
   }
  },
  {
   "cell_type": "markdown",
   "source": [
    "### Center data"
   ],
   "metadata": {}
  },
  {
   "cell_type": "code",
   "execution_count": 2,
   "source": [
    "# center data by subtracting mean value from each feature\r\n",
    "# pay attention to mean_vector <-- we need it later for restoring our data\r\n",
    "mean_vector = data.mean(axis=0)\r\n",
    "data_centered = data - mean_vector\r\n",
    "\r\n",
    "plt.title(\"Centered data\")\r\n",
    "plt.plot(data[:,0], data[:,1], '.', color=\"green\")\r\n",
    "plt.plot(data_centered[:,0], data_centered[:,1], '.', color=\"blue\")\r\n",
    "plt.axis([-6, 2, -3, 6])\r\n",
    "plt.grid('True')"
   ],
   "outputs": [
    {
     "output_type": "display_data",
     "data": {
      "image/png": "[encoded data removed]",
      "text/plain": [
       "<Figure size 432x288 with 1 Axes>"
      ]
     },
     "metadata": {
      "needs_background": "light"
     }
    }
   ],
   "metadata": {
    "scrolled": true,
    "pycharm": {
     "name": "#%%\n"
    }
   }
  },
  {
   "cell_type": "markdown",
   "source": [
    "### Covariance matrix ###"
   ],
   "metadata": {
    "pycharm": {
     "name": "#%% md\n"
    }
   }
  },
  {
   "cell_type": "code",
   "execution_count": 3,
   "source": [
    "# calculate covariance matrix for our centered data\r\n",
    "cov_mat = np.cov(data_centered, rowvar=False)\r\n",
    "print('Covariance matrix:\\n', cov_mat)\r\n",
    "\r\n",
    "# Cov(x, y) = (1 / (n - 1)) * Sum_i(x_i * y_i)\r\n",
    "# also, to make sure you understand how to calculate covariance, calculate and print cov(X,Y)\r\n",
    "# check that it is the same as in the covariance matrix\r\n",
    "cov_xy = (1 / (N - 1)) * np.sum(data_centered[:, 0] * data_centered[:, 1])\r\n",
    "print('cov(X,Y):', cov_xy)"
   ],
   "outputs": [
    {
     "output_type": "stream",
     "name": "stdout",
     "text": [
      "Covariance matrix:\n",
      " [[0.37615741 0.76801889]\n",
      " [0.76801889 1.65019543]]\n",
      "cov(X,Y): 0.7680188927863001\n"
     ]
    }
   ],
   "metadata": {
    "pycharm": {
     "name": "#%%\n"
    }
   }
  },
  {
   "cell_type": "markdown",
   "source": [
    "### Eigenvectors and eigenvalues"
   ],
   "metadata": {
    "pycharm": {
     "name": "#%% md\n"
    }
   }
  },
  {
   "cell_type": "code",
   "execution_count": 4,
   "source": [
    "# compute eigenvectors and eigenvalues, print them\r\n",
    "eig_values, eig_vectors = np.linalg.eig(cov_mat)\r\n",
    "print('eig_values:', eig_values)\r\n",
    "print('eig_vectors:\\n', eig_vectors)\r\n",
    "\r\n",
    "# are they already in the needed order?\r\n",
    "# if not, order eigenvectors and eigenvalues by eigenvalues, descending\r\n",
    "idxs = np.argsort(eig_values)[::-1]\r\n",
    "eig_values = eig_values[idxs]\r\n",
    "eig_vectors = eig_vectors[:, idxs]\r\n",
    "\r\n",
    "print('\\nsorteed eig_values:', eig_values)\r\n",
    "print('sorted eig_vectors:\\n', eig_vectors)\r\n",
    "\r\n",
    "# estimate variance retained by each principal component\r\n",
    "retained_var = eig_values / eig_values.sum()\r\n",
    "print('\\nretained variance:',   retained_var)"
   ],
   "outputs": [
    {
     "output_type": "stream",
     "name": "stdout",
     "text": [
      "eig_values: [0.01535567 2.01099716]\n",
      "eig_vectors:\n",
      " [[-0.90509952 -0.42519979]\n",
      " [ 0.42519979 -0.90509952]]\n",
      "\n",
      "sorteed eig_values: [2.01099716 0.01535567]\n",
      "sorted eig_vectors:\n",
      " [[-0.42519979 -0.90509952]\n",
      " [-0.90509952  0.42519979]]\n",
      "\n",
      "retained variance: [0.99242201 0.00757799]\n"
     ]
    }
   ],
   "metadata": {
    "scrolled": false,
    "pycharm": {
     "name": "#%%\n"
    }
   }
  },
  {
   "cell_type": "markdown",
   "source": [
    "### Project data ###"
   ],
   "metadata": {
    "pycharm": {
     "name": "#%% md\n"
    }
   }
  },
  {
   "cell_type": "code",
   "execution_count": 5,
   "source": [
    "# project data to the first principal component\r\n",
    "first_pc = eig_vectors[:, :1]\r\n",
    "projected_data = np.matmul(data_centered, first_pc)\r\n",
    "\r\n",
    "plt.title(\"Projected data\")\r\n",
    "plt.plot(data[:,0], data[:,1], '.', color=\"green\")\r\n",
    "plt.plot(data_centered[:,0], data_centered[:,1], '.', color=\"blue\")\r\n",
    "plt.plot(projected_data, np.zeros(len(projected_data)), '.', color=\"red\")\r\n",
    "plt.axis([-6, 3, -3, 6])\r\n",
    "plt.grid('True')"
   ],
   "outputs": [
    {
     "output_type": "display_data",
     "data": {
      "image/png": "[encoded data removed]",
      "text/plain": [
       "<Figure size 432x288 with 1 Axes>"
      ]
     },
     "metadata": {
      "needs_background": "light"
     }
    }
   ],
   "metadata": {
    "scrolled": true,
    "pycharm": {
     "name": "#%%\n"
    }
   }
  },
  {
   "cell_type": "markdown",
   "source": [
    "### Restore data back ###"
   ],
   "metadata": {
    "pycharm": {
     "name": "#%% md\n"
    }
   }
  },
  {
   "cell_type": "code",
   "execution_count": 6,
   "source": [
    "# Projected_data . first_pc.T + means\r\n",
    "# project data back to initial space\r\n",
    "# remember to add a mean_vector to the restored data\r\n",
    "restored_data = np.matmul(projected_data, first_pc.T) + mean_vector\r\n",
    "\r\n",
    "plt.title(\"Restored data\")\r\n",
    "plt.plot(data[:,0], data[:,1], '.', color=\"green\")\r\n",
    "plt.plot(data_centered[:,0], data_centered[:,1], '.', color=\"blue\")\r\n",
    "plt.plot(restored_data[:,0], restored_data[:,1], '.', color=\"red\")\r\n",
    "plt.axis([-6, 2, -3, 6])\r\n",
    "plt.grid('True')\r\n",
    "plt.show()"
   ],
   "outputs": [
    {
     "output_type": "display_data",
     "data": {
      "image/png": "[encoded data removed]",
      "text/plain": [
       "<Figure size 432x288 with 1 Axes>"
      ]
     },
     "metadata": {
      "needs_background": "light"
     }
    }
   ],
   "metadata": {
    "scrolled": true,
    "pycharm": {
     "name": "#%%\n"
    }
   }
  },
  {
   "cell_type": "markdown",
   "source": [
    "### SKLEARN implementation ###"
   ],
   "metadata": {
    "pycharm": {
     "name": "#%% md\n"
    }
   }
  },
  {
   "cell_type": "code",
   "execution_count": 7,
   "source": [
    "# this is to check your solution\r\n",
    "from sklearn.decomposition import PCA\r\n",
    "pca = PCA(n_components=1)\r\n",
    "x_PCA = pca.fit_transform(data)\r\n",
    "\r\n",
    "plt.title(\"Projected data\")\r\n",
    "plt.plot(data[:,0], data[:,1], '.', color=\"green\")\r\n",
    "plt.plot(data_centered[:,0], data_centered[:,1], '.', color=\"blue\")\r\n",
    "plt.plot(x_PCA, np.zeros(len(projected_data)), '.', color=\"red\")\r\n",
    "plt.axis([-6, 3, -3, 6])\r\n",
    "plt.grid('True')\r\n",
    "\r\n",
    "print(pca.mean_)\r\n",
    "print(pca.components_)\r\n",
    "print(pca.explained_variance_)\r\n",
    "print(pca.explained_variance_ratio_)"
   ],
   "outputs": [
    {
     "output_type": "stream",
     "name": "stdout",
     "text": [
      "[-4.          2.50055666]\n",
      "[[-0.42519979 -0.90509952]]\n",
      "[2.01099716]\n",
      "[0.99242201]\n"
     ]
    },
    {
     "output_type": "display_data",
     "data": {
      "image/png": "[encoded data removed]",
      "text/plain": [
       "<Figure size 432x288 with 1 Axes>"
      ]
     },
     "metadata": {
      "needs_background": "light"
     }
    }
   ],
   "metadata": {
    "pycharm": {
     "name": "#%%\n"
    }
   }
  },
  {
   "cell_type": "code",
   "execution_count": null,
   "source": [],
   "outputs": [],
   "metadata": {
    "collapsed": false,
    "pycharm": {
     "name": "#%%"
    }
   }
  }
 ],
 "metadata": {
  "colab": {
   "name": "Week3BSWithAnswers.ipynb",
   "provenance": [],
   "version": "0.3.2"
  },
  "kernelspec": {
   "name": "python3",
   "display_name": "Python 3.9.6 64-bit"
  },
  "language_info": {
   "codemirror_mode": {
    "name": "ipython",
    "version": 3
   },
   "file_extension": ".py",
   "mimetype": "text/x-python",
   "name": "python",
   "nbconvert_exporter": "python",
   "pygments_lexer": "ipython3",
   "version": "3.9.6"
  },
  "interpreter": {
   "hash": "ad69a6eeded1810137902dabe12f7736dcdf84919ba34f8c521f07deeeecf2ea"
  }
 },
 "nbformat": 4,
 "nbformat_minor": 1
}